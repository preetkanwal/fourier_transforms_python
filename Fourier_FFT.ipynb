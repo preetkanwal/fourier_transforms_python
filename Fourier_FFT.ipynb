{
 "cells": [
  {
   "cell_type": "code",
   "execution_count": 1,
   "metadata": {},
   "outputs": [],
   "source": [
    "import numpy as np\n",
    "import math\n",
    "import matplotlib.pyplot as plt\n",
    "import random\n",
    "import timeit\n",
    "import scipy.fftpack\n",
    "from mpl_toolkits.mplot3d import Axes3D"
   ]
  },
  {
   "cell_type": "code",
   "execution_count": 4,
   "metadata": {},
   "outputs": [
    {
     "data": {
      "image/png": "[encoded data removed]",
      "text/plain": [
       "<matplotlib.figure.Figure at 0x7f99064f7780>"
      ]
     },
     "metadata": {},
     "output_type": "display_data"
    },
    {
     "name": "stdout",
     "output_type": "stream",
     "text": [
      "8.580900248489343e-05\n"
     ]
    }
   ],
   "source": [
    "# create the signal\n",
    "pnts   = 1000\n",
    "signal = np.random.randn(pnts)\n",
    "\n",
    "\n",
    "# start the timer for \"slow\" Fourier transform\n",
    "tic = timeit.default_timer()\n",
    "\n",
    "# prepare the Fourier transform\n",
    "fourTime = np.array(range(0,pnts))/pnts\n",
    "fCoefs   = np.zeros(len(signal),dtype=complex)\n",
    "\n",
    "for fi in range(0,pnts):\n",
    "    csw = np.exp( -1j*2*np.pi*fi*fourTime )\n",
    "    fCoefs[fi] = np.sum( np.multiply(signal,csw) )\n",
    "\n",
    "\n",
    "# end timer for slow Fourier transform\n",
    "toc = timeit.default_timer()\n",
    "t1 = toc-tic\n",
    "\n",
    "\n",
    "# time the fast Fourier transform\n",
    "tic = timeit.default_timer()\n",
    "fCoefsF = scipy.fftpack.fft(signal)\n",
    "toc = timeit.default_timer()\n",
    "t2 = toc-tic\n",
    "\n",
    "# and plot\n",
    "plt.bar([1,2],[t1,t2])\n",
    "plt.title('Computation times')\n",
    "plt.ylabel('Time (sec.)')\n",
    "plt.xticks([1,2], ['loop','FFT'])\n",
    "plt.show()\n"
   ]
  }
 ],
 "metadata": {
  "kernelspec": {
   "display_name": "Python 3",
   "language": "python",
   "name": "python3"
  },
  "language_info": {
   "codemirror_mode": {
    "name": "ipython",
    "version": 3
   },
   "file_extension": ".py",
   "mimetype": "text/x-python",
   "name": "python",
   "nbconvert_exporter": "python",
   "pygments_lexer": "ipython3",
   "version": "3.7.1"
  }
 },
 "nbformat": 4,
 "nbformat_minor": 2
}
