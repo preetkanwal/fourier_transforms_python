{
 "cells": [
  {
   "cell_type": "code",
   "execution_count": 21,
   "metadata": {},
   "outputs": [],
   "source": [
    "import numpy as np\n",
    "import math\n",
    "import matplotlib.pyplot as plt\n",
    "import pylab as pl\n",
    "from IPython import display\n",
    "import time\n",
    "import random\n",
    "import scipy.fftpack\n",
    "from mpl_toolkits.mplot3d import Axes3D\n",
    "from scipy import signal\n",
    "from scipy import interpolate"
   ]
  },
  {
   "cell_type": "code",
   "execution_count": null,
   "metadata": {},
   "outputs": [],
   "source": [
    "## movie to illustrate frequencies\n",
    "\n",
    "# specify vector of sine frequencies\n",
    "sinefreq = np.linspace(.0001,.2,50) # arbitrary units\n",
    "\n",
    "\n",
    "# leave this fixed for now\n",
    "sinephas = np.pi/2\n",
    "\n",
    "\n",
    "# sine wave initializations\n",
    "lims  = [-91,91]\n",
    "[x,y] = np.meshgrid(range(lims[0],lims[1]),range(lims[0],lims[1]))\n",
    "xp    = x*np.cos(sinephas) + y*np.sin(sinephas)\n"
   ]
  }
 ],
 "metadata": {
  "kernelspec": {
   "display_name": "Python 3",
   "language": "python",
   "name": "python3"
  },
  "language_info": {
   "codemirror_mode": {
    "name": "ipython",
    "version": 3
   },
   "file_extension": ".py",
   "mimetype": "text/x-python",
   "name": "python",
   "nbconvert_exporter": "python",
   "pygments_lexer": "ipython3",
   "version": "3.7.1"
  }
 },
 "nbformat": 4,
 "nbformat_minor": 2
}
